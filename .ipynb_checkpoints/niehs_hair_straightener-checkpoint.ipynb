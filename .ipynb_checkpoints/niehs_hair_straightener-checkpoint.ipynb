{
 "cells": [
  {
   "cell_type": "markdown",
   "id": "7dd1a2b8-d1d7-49b3-9845-47dd6b13d988",
   "metadata": {},
   "source": [
    "# Re-analysis of NIEHS Hair Straightener and Uterine Cancer Data\n",
    "\n",
    "NIEHS issued a press release on Monday October 17, 2022, that stated that their researchers identified an increase risk of uterine cancers in women who used hair relaxers and straighteners. They used a Spearman rank correlation to make this finding. Alexandra White of NIEHS stated, \"we estimated that 1.64% of women who never used hair straighteners would go on to develop uterine cancer by the age of 70; but for frequent users, that risk goes up to 4.05%.\" This is based on an [NIEHS study](https://academic.oup.com/jnci/advance-article/doi/10.1093/jnci/djac165/6759686?login=false) published in the Journal of the National Cancer Institute by Chang et al (2022). \n",
    "\n",
    "To my eyes, that's a 2.4x increase -- which seems a bit high to me. \n",
    "\n",
    "What do we know and what is hypothesized by NIEHS:\n",
    "\n",
    "1. We know that uterine cancers are relatively rare.\n",
    "2. We know that rates of detected uterine cancers increased at a faster rate in non-hispanic Black women compared to White women from 2011-2015 [according to NIH](https://www.nih.gov/news-events/news-releases/study-shows-incidence-rates-aggressive-subtypes-uterine-cancer-rising).\n",
    "3. [NIEHS hypothesized that increased uterine cancer rates in Black women could be do to relaxer use](https://www.niehs.nih.gov/news/newsroom/releases/2022/october17/index.cfm?utm_medium=NIEHS+website).\n",
    "4. We also know that Black women have been using relaxers and hair products well before 2011. I should know -- my parents owned a hair store where the overwhelming majority of our clientelle were Black women. We sold relaxers, gels, mousse, wigs, weaves, wax, shampoos, conditioners, dyes, chalks, you name it and we probably sold it. And we started that store in the 1990s. And stores have been selling relaxers since well before the 1990s. So it doesn't make much sense to blame hair products -- the timing just doesn't fit.\n",
    "\n",
    "What do we know about NIEHS study?\n",
    "\n",
    "1. It only had 29 Black women who developed uterine cancer; out of a total of 2,523 that were enrolled. That works out to 1.1%\n",
    "2. The overwhelming majority of women who developed uterine cancer in the study were White women -- 326 of them in fact, out of a total of 29,060. That works out to 1.1%\n",
    "3. The women in the study had an average age of 58 years old, and most of the women who developed uterine cancer were followed up within 6.5 years.\n",
    "4. The enrollment period for the study was 2003-2009.\n",
    "\n",
    "Note that the topline number for uterine cancer rate in this study for both Black and White women was 1.1%. So at the time of the study, we're not seeing any significant difference between groups at the top-line. So now the question becomes -- do we see one when we consider hair straightening product use?\n",
    "\n",
    "Again, from a sociological perspective, the timing just doesn't fit. However, it should be noted that women can and do change up their hair styles, and one may not use relaxers often throughout the year. \n",
    "\n",
    "The other thing to consider is that the number of Black women in the study is really, really small, and no representative of the overall US population. In fact, the number of White women in the study is simply too large at 85.6%, or 29,060. Compare that to the 2,523 women. Because uterine cancer is such a rare cancer, and there are only 29 Black women who had it in the study, that means that any effect size we see when doing the analysis to identify an effect due to relaxers is likely to be exaggerated and a false positive -- a form of Type M (or magnitude) error.\n",
    "\n",
    "# Analysis\n"
   ]
  },
  {
   "cell_type": "code",
   "execution_count": null,
   "id": "c34a7bee-4c57-4925-b621-b3f3391c60b3",
   "metadata": {},
   "outputs": [],
   "source": []
  }
 ],
 "metadata": {
  "kernelspec": {
   "display_name": "R",
   "language": "R",
   "name": "ir"
  },
  "language_info": {
   "codemirror_mode": "r",
   "file_extension": ".r",
   "mimetype": "text/x-r-source",
   "name": "R",
   "pygments_lexer": "r",
   "version": "4.2.1"
  }
 },
 "nbformat": 4,
 "nbformat_minor": 5
}
